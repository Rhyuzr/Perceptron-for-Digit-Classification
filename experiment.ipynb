{
  "nbformat": 4,
  "nbformat_minor": 0,
  "metadata": {
    "colab": {
      "provenance": []
    },
    "kernelspec": {
      "name": "python3",
      "display_name": "Python 3"
    },
    "language_info": {
      "name": "python"
    }
  },
  "cells": [
    {
      "cell_type": "markdown",
      "source": [
        "**Part II – Using the perceptron:**"
      ],
      "metadata": {
        "id": "tgqIDKL6hNqE"
      }
    },
    {
      "cell_type": "markdown",
      "source": [
        "Previous code :"
      ],
      "metadata": {
        "id": "feJ2CyXliqPd"
      }
    },
    {
      "cell_type": "code",
      "source": [
        "import numpy as np\n",
        "from sklearn.linear_model import Perceptron as SklearnPerceptron\n",
        "\n",
        "class Perceptron:\n",
        "    '''\n",
        "    perceptron algorithm class\n",
        "    __init__() initialize the model\n",
        "    train() trains the model\n",
        "    predict() predict the class for a new sample\n",
        "\n",
        "    Attributes:\n",
        "    - alpha: Learning rate for the perceptron, a positive float.\n",
        "    - w: Weight vector for the features.\n",
        "    - b: Bias term.\n",
        "    '''\n",
        "\n",
        "    def __init__(self, alpha):\n",
        "        '''\n",
        "        Initialize the Perceptron model.\n",
        "\n",
        "        INPUT:\n",
        "        - alpha: Learning rate, a float number bigger than 0.\n",
        "        '''\n",
        "        if alpha <= 0:\n",
        "            raise Exception(\"Sorry, no numbers below or equal to zero. Start again!\")\n",
        "\n",
        "        self.alpha = alpha\n",
        "        self.w = None  # Initialize weights to None; to be set during training\n",
        "        self.b = 0     # Bias term initialized to 0\n",
        "\n",
        "    def train(self, X, y, epochs=100):\n",
        "        '''\n",
        "        Train the perceptron on the provided dataset.\n",
        "\n",
        "        INPUT:\n",
        "        - X : is a 2D NxD numpy array containing the input features\n",
        "        - y : is a 1D Nx1 numpy array containing the labels for the corrisponding row of X\n",
        "        - epochs: Number of iterations over the dataset (default: 100).\n",
        "        '''\n",
        "        N, D = X.shape\n",
        "        self.w = np.zeros(D)  # Initialize weights to zeros\n",
        "\n",
        "        for epoch in range(epochs):\n",
        "            for i in range(N):\n",
        "                # Compute prediction: sign(w^T x + b)\n",
        "                y_pred = np.sign(np.dot(self.w, X[i]) + self.b)\n",
        "\n",
        "                # Update weights and bias if prediction is incorrect\n",
        "                if y_pred != y[i]:\n",
        "\n",
        "                    self.w += self.alpha * y[i] * X[i]  # Update weights\n",
        "                    self.b += self.alpha * y[i]         # Update bias\n",
        "\n",
        "    def predict(self, X_new):\n",
        "        '''\n",
        "        Predict the labels for new samples.\n",
        "\n",
        "        INPUT :\n",
        "        - X_new : is a MxD numpy array containing the features of new samples whose label has to be predicted\n",
        "        A\n",
        "\n",
        "        OUTPUT :\n",
        "        - y_hat : is a Mx1 numpy array containing the predicted labels for the X_new samples\n",
        "        '''\n",
        "        y_hat = np.sign(np.dot(X_new, self.w) + self.b)  # Compute sign(w^T x + b)\n",
        "        return y_hat"
      ],
      "metadata": {
        "id": "4iVrQXtCis8W"
      },
      "execution_count": 36,
      "outputs": []
    },
    {
      "cell_type": "markdown",
      "source": [
        "Load the dataset and using the load_digits function in scikit-learn. Check its documentation\n",
        "to see how you can use it. The dataset contains digits from 0 to 9."
      ],
      "metadata": {
        "id": "fVV45vRthBdX"
      }
    },
    {
      "cell_type": "code",
      "execution_count": 2,
      "metadata": {
        "id": "CuiotUTkg6dF"
      },
      "outputs": [],
      "source": [
        "import numpy as np\n",
        "import matplotlib.pyplot as plt\n",
        "from sklearn.datasets import load_digits\n",
        "from sklearn.model_selection import train_test_split\n",
        "from sklearn.preprocessing import StandardScaler\n",
        "from sklearn.metrics import accuracy_score, classification_report\n",
        "\n",
        "# Load the dataset\n",
        "digits = load_digits()\n",
        "X, y = digits.data, digits.target"
      ]
    },
    {
      "cell_type": "code",
      "source": [
        "# Visualize the dataset\n",
        "plt.figure(figsize=(10, 4))\n",
        "for i in range(10):\n",
        "    plt.subplot(2, 5, i + 1)\n",
        "    plt.imshow(digits.images[i], cmap='gray')\n",
        "    plt.title(f\"Label: {digits.target[i]}\")\n",
        "    plt.axis('off')\n",
        "plt.suptitle(\"Sample Digits from the Dataset\", fontsize=16)\n",
        "plt.show()"
      ],
      "metadata": {
        "colab": {
          "base_uri": "https://localhost:8080/",
          "height": 381
        },
        "id": "mbMrN1FZi9uo",
        "outputId": "7d0fdf9a-b2ae-4881-da56-61cdbbfc7217"
      },
      "execution_count": 3,
      "outputs": [
        {
          "output_type": "display_data",
          "data": {
            "text/plain": [
              "<Figure size 1000x400 with 10 Axes>"
            ],
            "image/png": "[encoded data removed]"
          },
          "metadata": {}
        }
      ]
    },
    {
      "cell_type": "markdown",
      "source": [
        "You need to implement an algorithm to classify the MNIST digits using a perceptron (no\n",
        "multi-layer perceptron). Consider splitting your data into training, validation and test. You can\n",
        "use the train_test_split function from scikit-learn."
      ],
      "metadata": {
        "id": "qH4mh4d7hgYS"
      }
    },
    {
      "cell_type": "code",
      "source": [
        "# Split the dataset into training, validation, and testing sets\n",
        "X_temp, X_test, y_temp, y_test = train_test_split(X, y, test_size=0.2)\n",
        "X_train, X_val, y_train, y_val = train_test_split(X_temp, y_temp, test_size=0.25)  # 60% train, 20% val, 20% test"
      ],
      "metadata": {
        "id": "Da_26o_uhoUQ"
      },
      "execution_count": 38,
      "outputs": []
    },
    {
      "cell_type": "markdown",
      "source": [
        "Train your perceptron using the training set. Use the validation set to choose a model. Report\n",
        "the selected model’s accuracy using the testing set. Report your results.\n",
        "Hint: The digits dataset is a dataset of images. You need to convert them from a 2D array to a 1D\n",
        "one."
      ],
      "metadata": {
        "id": "LninIaqsiQbY"
      }
    },
    {
      "cell_type": "code",
      "source": [
        "# One-vs-All Perceptron Classifier\n",
        "class MultiClassPerceptron:\n",
        "    def __init__(self, alpha, num_classes):\n",
        "        self.alpha = alpha\n",
        "        self.num_classes = num_classes\n",
        "        self.perceptrons = [Perceptron(alpha) for _ in range(num_classes)]\n",
        "\n",
        "    def train(self, X, y, epochs=100):\n",
        "        for class_idx in range(self.num_classes):\n",
        "            y_binary = np.where(y == class_idx, 1, -1)  # Convert labels to binary for the current class\n",
        "            self.perceptrons[class_idx].train(X, y_binary, epochs)\n",
        "\n",
        "    def predict(self, X):\n",
        "        scores = np.array([p.predict(X) for p in self.perceptrons]).T  # Shape: (num_samples, num_classes)\n",
        "        return np.argmax(scores, axis=1)\n",
        "\n",
        "# Test with different learning rates and epochs to find the best one\n",
        "learning_rates = [0.001, 0.01, 0.1]\n",
        "epochs_list = [10, 50, 100]\n",
        "num_classes = 10\n",
        "best_lr = None\n",
        "best_epochs = None\n",
        "best_accuracy = 0\n",
        "\n",
        "# Loop through all combinations of learning rates and epochs\n",
        "for lr in learning_rates:\n",
        "    for epochs in epochs_list:\n",
        "        print(f\"\\nTesting learning rate: {lr} with epochs: {epochs}\")\n",
        "        multi_class_perceptron = MultiClassPerceptron(alpha=lr, num_classes=num_classes)\n",
        "        multi_class_perceptron.train(X_train, y_train, epochs=epochs)\n",
        "\n",
        "        # Evaluate on validation set\n",
        "        y_val_pred = multi_class_perceptron.predict(X_val)\n",
        "        val_accuracy = accuracy_score(y_val, y_val_pred)\n",
        "        print(f\"Validation Accuracy: {val_accuracy:.2f}\")\n",
        "\n",
        "        # Update the best model configuration\n",
        "        if val_accuracy > best_accuracy:\n",
        "            best_accuracy = val_accuracy\n",
        "            best_lr = lr\n",
        "            best_epochs = epochs\n",
        "\n",
        "# Train with the best configuration on the test set\n",
        "print(f\"\\nBest configuration: Learning rate = {best_lr}, Epochs = {best_epochs} with Validation Accuracy: {best_accuracy:.2f}\")\n",
        "multi_class_perceptron = MultiClassPerceptron(alpha=best_lr, num_classes=num_classes)\n",
        "multi_class_perceptron.train(X_train, y_train, epochs=best_epochs)\n",
        "\n",
        "# Evaluate on test set\n",
        "y_test_pred = multi_class_perceptron.predict(X_test)\n",
        "test_accuracy = accuracy_score(y_test, y_test_pred)\n",
        "print(f\"Test Accuracy with best learning rate and epochs: {test_accuracy:.2f}\")\n",
        "\n",
        "# Print true and predicted digits for each test sample\n",
        "print(\"\\nTrue and Predicted digits for test samples:\")\n",
        "for i, (true, pred) in enumerate(zip(y_test[:20], y_test_pred[:20])):\n",
        "    print(f\"Test sample {i + 1}: True digit: {true}, Predicted digit: {pred}\")\n",
        "\n",
        "# Detailed classification report\n",
        "print(\"\\nClassification Report on Test Set:\")\n",
        "print(classification_report(y_test, y_test_pred))\n"
      ],
      "metadata": {
        "colab": {
          "base_uri": "https://localhost:8080/"
        },
        "id": "Ig-wgYt0iU1B",
        "outputId": "586945ab-cbcb-46ee-a964-bd12c563582d"
      },
      "execution_count": 40,
      "outputs": [
        {
          "output_type": "stream",
          "name": "stdout",
          "text": [
            "\n",
            "Testing learning rate: 0.001 with epochs: 10\n",
            "Validation Accuracy: 0.87\n",
            "\n",
            "Testing learning rate: 0.001 with epochs: 50\n",
            "Validation Accuracy: 0.90\n",
            "\n",
            "Testing learning rate: 0.001 with epochs: 100\n",
            "Validation Accuracy: 0.90\n",
            "\n",
            "Testing learning rate: 0.01 with epochs: 10\n",
            "Validation Accuracy: 0.87\n",
            "\n",
            "Testing learning rate: 0.01 with epochs: 50\n",
            "Validation Accuracy: 0.90\n",
            "\n",
            "Testing learning rate: 0.01 with epochs: 100\n",
            "Validation Accuracy: 0.89\n",
            "\n",
            "Testing learning rate: 0.1 with epochs: 10\n",
            "Validation Accuracy: 0.88\n",
            "\n",
            "Testing learning rate: 0.1 with epochs: 50\n",
            "Validation Accuracy: 0.90\n",
            "\n",
            "Testing learning rate: 0.1 with epochs: 100\n",
            "Validation Accuracy: 0.90\n",
            "\n",
            "Best configuration: Learning rate = 0.01, Epochs = 50 with Validation Accuracy: 0.90\n",
            "Test Accuracy with best learning rate and epochs: 0.93\n",
            "\n",
            "True and Predicted digits for test samples:\n",
            "Test sample 1: True digit: 1, Predicted digit: 1\n",
            "Test sample 2: True digit: 7, Predicted digit: 7\n",
            "Test sample 3: True digit: 4, Predicted digit: 4\n",
            "Test sample 4: True digit: 5, Predicted digit: 5\n",
            "Test sample 5: True digit: 0, Predicted digit: 0\n",
            "Test sample 6: True digit: 2, Predicted digit: 2\n",
            "Test sample 7: True digit: 7, Predicted digit: 7\n",
            "Test sample 8: True digit: 1, Predicted digit: 1\n",
            "Test sample 9: True digit: 8, Predicted digit: 8\n",
            "Test sample 10: True digit: 5, Predicted digit: 5\n",
            "Test sample 11: True digit: 2, Predicted digit: 2\n",
            "Test sample 12: True digit: 6, Predicted digit: 6\n",
            "Test sample 13: True digit: 0, Predicted digit: 0\n",
            "Test sample 14: True digit: 3, Predicted digit: 3\n",
            "Test sample 15: True digit: 8, Predicted digit: 8\n",
            "Test sample 16: True digit: 5, Predicted digit: 5\n",
            "Test sample 17: True digit: 3, Predicted digit: 3\n",
            "Test sample 18: True digit: 9, Predicted digit: 9\n",
            "Test sample 19: True digit: 9, Predicted digit: 9\n",
            "Test sample 20: True digit: 7, Predicted digit: 7\n",
            "\n",
            "Classification Report on Test Set:\n",
            "              precision    recall  f1-score   support\n",
            "\n",
            "           0       0.70      1.00      0.83        31\n",
            "           1       0.77      1.00      0.87        27\n",
            "           2       0.98      0.98      0.98        44\n",
            "           3       1.00      0.97      0.99        39\n",
            "           4       1.00      0.97      0.99        34\n",
            "           5       1.00      0.92      0.96        36\n",
            "           6       1.00      0.91      0.95        43\n",
            "           7       1.00      0.97      0.99        39\n",
            "           8       0.91      0.74      0.82        39\n",
            "           9       0.92      0.79      0.85        28\n",
            "\n",
            "    accuracy                           0.93       360\n",
            "   macro avg       0.93      0.92      0.92       360\n",
            "weighted avg       0.94      0.93      0.93       360\n",
            "\n"
          ]
        }
      ]
    }
  ]
}